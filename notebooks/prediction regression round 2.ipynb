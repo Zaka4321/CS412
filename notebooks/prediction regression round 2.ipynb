{
 "cells": [
  {
   "cell_type": "code",
   "execution_count": 1,
   "id": "0ecea52f",
   "metadata": {},
   "outputs": [],
   "source": [
    "import warnings\n",
    "warnings.filterwarnings('ignore')"
   ]
  },
  {
   "cell_type": "code",
   "execution_count": 2,
   "id": "e3e9bde0",
   "metadata": {},
   "outputs": [],
   "source": [
    "import numpy as np\n",
    "import pandas as pd\n",
    "from sklearn.model_selection import train_test_split\n",
    "from sklearn.linear_model import LinearRegression\n",
    "from sklearn.ensemble import RandomForestRegressor\n",
    "from sklearn.svm import SVR\n",
    "from sklearn.pipeline import Pipeline\n",
    "from sklearn.preprocessing import StandardScaler, OneHotEncoder\n",
    "from sklearn.compose import ColumnTransformer\n",
    "from sklearn.metrics import mean_squared_error, r2_score\n",
    "import json"
   ]
  },
  {
   "cell_type": "code",
   "execution_count": 3,
   "id": "ff92918d",
   "metadata": {},
   "outputs": [
    {
     "data": {
      "text/html": [
       "<div>\n",
       "<style scoped>\n",
       "    .dataframe tbody tr th:only-of-type {\n",
       "        vertical-align: middle;\n",
       "    }\n",
       "\n",
       "    .dataframe tbody tr th {\n",
       "        vertical-align: top;\n",
       "    }\n",
       "\n",
       "    .dataframe thead th {\n",
       "        text-align: right;\n",
       "    }\n",
       "</style>\n",
       "<table border=\"1\" class=\"dataframe\">\n",
       "  <thead>\n",
       "    <tr style=\"text-align: right;\">\n",
       "      <th></th>\n",
       "      <th>username</th>\n",
       "      <th>id</th>\n",
       "      <th>media_type</th>\n",
       "      <th>like_count</th>\n",
       "      <th>comments_count</th>\n",
       "    </tr>\n",
       "  </thead>\n",
       "  <tbody>\n",
       "    <tr>\n",
       "      <th>0</th>\n",
       "      <td>deparmedya</td>\n",
       "      <td>17990918969458700</td>\n",
       "      <td>IMAGE</td>\n",
       "      <td>6.0</td>\n",
       "      <td>0</td>\n",
       "    </tr>\n",
       "    <tr>\n",
       "      <th>1</th>\n",
       "      <td>beyazyakaliyiz</td>\n",
       "      <td>18219250732221000</td>\n",
       "      <td>VIDEO</td>\n",
       "      <td>22.0</td>\n",
       "      <td>1</td>\n",
       "    </tr>\n",
       "    <tr>\n",
       "      <th>2</th>\n",
       "      <td>kafesfirin</td>\n",
       "      <td>18311380465102300</td>\n",
       "      <td>VIDEO</td>\n",
       "      <td>19.0</td>\n",
       "      <td>0</td>\n",
       "    </tr>\n",
       "    <tr>\n",
       "      <th>3</th>\n",
       "      <td>vimerang</td>\n",
       "      <td>18089518138361500</td>\n",
       "      <td>VIDEO</td>\n",
       "      <td>19.0</td>\n",
       "      <td>1</td>\n",
       "    </tr>\n",
       "    <tr>\n",
       "      <th>4</th>\n",
       "      <td>totalenergies_istasyonlari</td>\n",
       "      <td>18012743929758400</td>\n",
       "      <td>VIDEO</td>\n",
       "      <td>21.0</td>\n",
       "      <td>0</td>\n",
       "    </tr>\n",
       "  </tbody>\n",
       "</table>\n",
       "</div>"
      ],
      "text/plain": [
       "                     username                 id media_type  like_count  \\\n",
       "0                  deparmedya  17990918969458700      IMAGE         6.0   \n",
       "1              beyazyakaliyiz  18219250732221000      VIDEO        22.0   \n",
       "2                  kafesfirin  18311380465102300      VIDEO        19.0   \n",
       "3                    vimerang  18089518138361500      VIDEO        19.0   \n",
       "4  totalenergies_istasyonlari  18012743929758400      VIDEO        21.0   \n",
       "\n",
       "   comments_count  \n",
       "0               0  \n",
       "1               1  \n",
       "2               0  \n",
       "3               1  \n",
       "4               0  "
      ]
     },
     "execution_count": 3,
     "metadata": {},
     "output_type": "execute_result"
    }
   ],
   "source": [
    "df = pd.read_csv('main.csv')\n",
    "df.head(5)"
   ]
  },
  {
   "cell_type": "code",
   "execution_count": 4,
   "id": "155b24d0",
   "metadata": {},
   "outputs": [
    {
     "data": {
      "text/plain": [
       "(5413, 5)"
      ]
     },
     "execution_count": 4,
     "metadata": {},
     "output_type": "execute_result"
    }
   ],
   "source": [
    "df.shape"
   ]
  },
  {
   "cell_type": "code",
   "execution_count": 5,
   "id": "79a812fb",
   "metadata": {},
   "outputs": [
    {
     "name": "stdout",
     "output_type": "stream",
     "text": [
      "<class 'pandas.core.frame.DataFrame'>\n",
      "RangeIndex: 5413 entries, 0 to 5412\n",
      "Data columns (total 5 columns):\n",
      " #   Column          Non-Null Count  Dtype  \n",
      "---  ------          --------------  -----  \n",
      " 0   username        5413 non-null   object \n",
      " 1   id              5413 non-null   int64  \n",
      " 2   media_type      5413 non-null   object \n",
      " 3   like_count      5410 non-null   float64\n",
      " 4   comments_count  5413 non-null   int64  \n",
      "dtypes: float64(1), int64(2), object(2)\n",
      "memory usage: 211.6+ KB\n"
     ]
    }
   ],
   "source": [
    "df.info()"
   ]
  },
  {
   "cell_type": "code",
   "execution_count": 6,
   "id": "80d00d96",
   "metadata": {},
   "outputs": [],
   "source": [
    "columns_to_drop = ['username']"
   ]
  },
  {
   "cell_type": "code",
   "execution_count": 7,
   "id": "2c4ce1bb",
   "metadata": {},
   "outputs": [],
   "source": [
    "def clean_data(df):\n",
    "    return (\n",
    "        df.drop(columns=columns_to_drop)\n",
    "        )"
   ]
  },
  {
   "cell_type": "code",
   "execution_count": 8,
   "id": "cbf2690e",
   "metadata": {},
   "outputs": [
    {
     "data": {
      "text/html": [
       "<div>\n",
       "<style scoped>\n",
       "    .dataframe tbody tr th:only-of-type {\n",
       "        vertical-align: middle;\n",
       "    }\n",
       "\n",
       "    .dataframe tbody tr th {\n",
       "        vertical-align: top;\n",
       "    }\n",
       "\n",
       "    .dataframe thead th {\n",
       "        text-align: right;\n",
       "    }\n",
       "</style>\n",
       "<table border=\"1\" class=\"dataframe\">\n",
       "  <thead>\n",
       "    <tr style=\"text-align: right;\">\n",
       "      <th></th>\n",
       "      <th>id</th>\n",
       "      <th>media_type</th>\n",
       "      <th>like_count</th>\n",
       "      <th>comments_count</th>\n",
       "    </tr>\n",
       "  </thead>\n",
       "  <tbody>\n",
       "    <tr>\n",
       "      <th>0</th>\n",
       "      <td>17990918969458700</td>\n",
       "      <td>IMAGE</td>\n",
       "      <td>6.0</td>\n",
       "      <td>0</td>\n",
       "    </tr>\n",
       "    <tr>\n",
       "      <th>1</th>\n",
       "      <td>18219250732221000</td>\n",
       "      <td>VIDEO</td>\n",
       "      <td>22.0</td>\n",
       "      <td>1</td>\n",
       "    </tr>\n",
       "    <tr>\n",
       "      <th>2</th>\n",
       "      <td>18311380465102300</td>\n",
       "      <td>VIDEO</td>\n",
       "      <td>19.0</td>\n",
       "      <td>0</td>\n",
       "    </tr>\n",
       "    <tr>\n",
       "      <th>3</th>\n",
       "      <td>18089518138361500</td>\n",
       "      <td>VIDEO</td>\n",
       "      <td>19.0</td>\n",
       "      <td>1</td>\n",
       "    </tr>\n",
       "    <tr>\n",
       "      <th>4</th>\n",
       "      <td>18012743929758400</td>\n",
       "      <td>VIDEO</td>\n",
       "      <td>21.0</td>\n",
       "      <td>0</td>\n",
       "    </tr>\n",
       "  </tbody>\n",
       "</table>\n",
       "</div>"
      ],
      "text/plain": [
       "                  id media_type  like_count  comments_count\n",
       "0  17990918969458700      IMAGE         6.0               0\n",
       "1  18219250732221000      VIDEO        22.0               1\n",
       "2  18311380465102300      VIDEO        19.0               0\n",
       "3  18089518138361500      VIDEO        19.0               1\n",
       "4  18012743929758400      VIDEO        21.0               0"
      ]
     },
     "execution_count": 8,
     "metadata": {},
     "output_type": "execute_result"
    }
   ],
   "source": [
    "df= clean_data(df)\n",
    "df.head(5)"
   ]
  },
  {
   "cell_type": "code",
   "execution_count": 9,
   "id": "36035a65",
   "metadata": {},
   "outputs": [
    {
     "data": {
      "text/plain": [
       "media_type\n",
       "IMAGE             2754\n",
       "VIDEO             1493\n",
       "CAROUSEL_ALBUM    1166\n",
       "Name: count, dtype: int64"
      ]
     },
     "execution_count": 9,
     "metadata": {},
     "output_type": "execute_result"
    }
   ],
   "source": [
    "df['media_type'].value_counts()"
   ]
  },
  {
   "cell_type": "code",
   "execution_count": 10,
   "id": "c4b2ff10",
   "metadata": {},
   "outputs": [],
   "source": [
    "df['media_type'] =df['media_type'].replace({\n",
    "    'IMAGE':0,\n",
    "    'VIDEO': 1,\n",
    "    'CAROUSEL_ALBUM': 2\n",
    "})"
   ]
  },
  {
   "cell_type": "code",
   "execution_count": 11,
   "id": "655d1b71",
   "metadata": {},
   "outputs": [
    {
     "data": {
      "text/html": [
       "<div>\n",
       "<style scoped>\n",
       "    .dataframe tbody tr th:only-of-type {\n",
       "        vertical-align: middle;\n",
       "    }\n",
       "\n",
       "    .dataframe tbody tr th {\n",
       "        vertical-align: top;\n",
       "    }\n",
       "\n",
       "    .dataframe thead th {\n",
       "        text-align: right;\n",
       "    }\n",
       "</style>\n",
       "<table border=\"1\" class=\"dataframe\">\n",
       "  <thead>\n",
       "    <tr style=\"text-align: right;\">\n",
       "      <th></th>\n",
       "      <th>id</th>\n",
       "      <th>media_type</th>\n",
       "      <th>like_count</th>\n",
       "      <th>comments_count</th>\n",
       "    </tr>\n",
       "  </thead>\n",
       "  <tbody>\n",
       "    <tr>\n",
       "      <th>0</th>\n",
       "      <td>17990918969458700</td>\n",
       "      <td>0</td>\n",
       "      <td>6.0</td>\n",
       "      <td>0</td>\n",
       "    </tr>\n",
       "    <tr>\n",
       "      <th>1</th>\n",
       "      <td>18219250732221000</td>\n",
       "      <td>1</td>\n",
       "      <td>22.0</td>\n",
       "      <td>1</td>\n",
       "    </tr>\n",
       "    <tr>\n",
       "      <th>2</th>\n",
       "      <td>18311380465102300</td>\n",
       "      <td>1</td>\n",
       "      <td>19.0</td>\n",
       "      <td>0</td>\n",
       "    </tr>\n",
       "    <tr>\n",
       "      <th>3</th>\n",
       "      <td>18089518138361500</td>\n",
       "      <td>1</td>\n",
       "      <td>19.0</td>\n",
       "      <td>1</td>\n",
       "    </tr>\n",
       "    <tr>\n",
       "      <th>4</th>\n",
       "      <td>18012743929758400</td>\n",
       "      <td>1</td>\n",
       "      <td>21.0</td>\n",
       "      <td>0</td>\n",
       "    </tr>\n",
       "    <tr>\n",
       "      <th>...</th>\n",
       "      <td>...</td>\n",
       "      <td>...</td>\n",
       "      <td>...</td>\n",
       "      <td>...</td>\n",
       "    </tr>\n",
       "    <tr>\n",
       "      <th>5408</th>\n",
       "      <td>17977428839417500</td>\n",
       "      <td>2</td>\n",
       "      <td>16.0</td>\n",
       "      <td>0</td>\n",
       "    </tr>\n",
       "    <tr>\n",
       "      <th>5409</th>\n",
       "      <td>18003986413814100</td>\n",
       "      <td>2</td>\n",
       "      <td>14.0</td>\n",
       "      <td>0</td>\n",
       "    </tr>\n",
       "    <tr>\n",
       "      <th>5410</th>\n",
       "      <td>17846807598040300</td>\n",
       "      <td>2</td>\n",
       "      <td>14.0</td>\n",
       "      <td>0</td>\n",
       "    </tr>\n",
       "    <tr>\n",
       "      <th>5411</th>\n",
       "      <td>18270366805196600</td>\n",
       "      <td>2</td>\n",
       "      <td>14.0</td>\n",
       "      <td>0</td>\n",
       "    </tr>\n",
       "    <tr>\n",
       "      <th>5412</th>\n",
       "      <td>18013386916840200</td>\n",
       "      <td>2</td>\n",
       "      <td>27.0</td>\n",
       "      <td>0</td>\n",
       "    </tr>\n",
       "  </tbody>\n",
       "</table>\n",
       "<p>5413 rows × 4 columns</p>\n",
       "</div>"
      ],
      "text/plain": [
       "                     id  media_type  like_count  comments_count\n",
       "0     17990918969458700           0         6.0               0\n",
       "1     18219250732221000           1        22.0               1\n",
       "2     18311380465102300           1        19.0               0\n",
       "3     18089518138361500           1        19.0               1\n",
       "4     18012743929758400           1        21.0               0\n",
       "...                 ...         ...         ...             ...\n",
       "5408  17977428839417500           2        16.0               0\n",
       "5409  18003986413814100           2        14.0               0\n",
       "5410  17846807598040300           2        14.0               0\n",
       "5411  18270366805196600           2        14.0               0\n",
       "5412  18013386916840200           2        27.0               0\n",
       "\n",
       "[5413 rows x 4 columns]"
      ]
     },
     "execution_count": 11,
     "metadata": {},
     "output_type": "execute_result"
    }
   ],
   "source": [
    "df"
   ]
  },
  {
   "cell_type": "code",
   "execution_count": 12,
   "id": "69d392ac",
   "metadata": {},
   "outputs": [
    {
     "data": {
      "text/plain": [
       "0"
      ]
     },
     "execution_count": 12,
     "metadata": {},
     "output_type": "execute_result"
    }
   ],
   "source": [
    "df.duplicated().sum()"
   ]
  },
  {
   "cell_type": "code",
   "execution_count": 13,
   "id": "ef1441df",
   "metadata": {},
   "outputs": [
    {
     "data": {
      "text/plain": [
       "id                0\n",
       "media_type        0\n",
       "like_count        3\n",
       "comments_count    0\n",
       "dtype: int64"
      ]
     },
     "execution_count": 13,
     "metadata": {},
     "output_type": "execute_result"
    }
   ],
   "source": [
    "df.isnull().sum()"
   ]
  },
  {
   "cell_type": "code",
   "execution_count": 14,
   "id": "1f3539d1",
   "metadata": {},
   "outputs": [
    {
     "data": {
      "text/plain": [
       "id                0\n",
       "media_type        0\n",
       "like_count        0\n",
       "comments_count    0\n",
       "dtype: int64"
      ]
     },
     "execution_count": 14,
     "metadata": {},
     "output_type": "execute_result"
    }
   ],
   "source": [
    "df.dropna(inplace = True)\n",
    "df.isnull().sum()"
   ]
  },
  {
   "cell_type": "code",
   "execution_count": 15,
   "id": "39680d28",
   "metadata": {},
   "outputs": [
    {
     "data": {
      "text/html": [
       "<div>\n",
       "<style scoped>\n",
       "    .dataframe tbody tr th:only-of-type {\n",
       "        vertical-align: middle;\n",
       "    }\n",
       "\n",
       "    .dataframe tbody tr th {\n",
       "        vertical-align: top;\n",
       "    }\n",
       "\n",
       "    .dataframe thead th {\n",
       "        text-align: right;\n",
       "    }\n",
       "</style>\n",
       "<table border=\"1\" class=\"dataframe\">\n",
       "  <thead>\n",
       "    <tr style=\"text-align: right;\">\n",
       "      <th></th>\n",
       "      <th>id</th>\n",
       "      <th>media_type</th>\n",
       "      <th>like_count</th>\n",
       "      <th>comments_count</th>\n",
       "    </tr>\n",
       "  </thead>\n",
       "  <tbody>\n",
       "    <tr>\n",
       "      <th>0</th>\n",
       "      <td>17990918969458700</td>\n",
       "      <td>0</td>\n",
       "      <td>6.0</td>\n",
       "      <td>0</td>\n",
       "    </tr>\n",
       "    <tr>\n",
       "      <th>1</th>\n",
       "      <td>18219250732221000</td>\n",
       "      <td>1</td>\n",
       "      <td>22.0</td>\n",
       "      <td>1</td>\n",
       "    </tr>\n",
       "    <tr>\n",
       "      <th>2</th>\n",
       "      <td>18311380465102300</td>\n",
       "      <td>1</td>\n",
       "      <td>19.0</td>\n",
       "      <td>0</td>\n",
       "    </tr>\n",
       "    <tr>\n",
       "      <th>3</th>\n",
       "      <td>18089518138361500</td>\n",
       "      <td>1</td>\n",
       "      <td>19.0</td>\n",
       "      <td>1</td>\n",
       "    </tr>\n",
       "    <tr>\n",
       "      <th>4</th>\n",
       "      <td>18012743929758400</td>\n",
       "      <td>1</td>\n",
       "      <td>21.0</td>\n",
       "      <td>0</td>\n",
       "    </tr>\n",
       "    <tr>\n",
       "      <th>...</th>\n",
       "      <td>...</td>\n",
       "      <td>...</td>\n",
       "      <td>...</td>\n",
       "      <td>...</td>\n",
       "    </tr>\n",
       "    <tr>\n",
       "      <th>5408</th>\n",
       "      <td>17977428839417500</td>\n",
       "      <td>2</td>\n",
       "      <td>16.0</td>\n",
       "      <td>0</td>\n",
       "    </tr>\n",
       "    <tr>\n",
       "      <th>5409</th>\n",
       "      <td>18003986413814100</td>\n",
       "      <td>2</td>\n",
       "      <td>14.0</td>\n",
       "      <td>0</td>\n",
       "    </tr>\n",
       "    <tr>\n",
       "      <th>5410</th>\n",
       "      <td>17846807598040300</td>\n",
       "      <td>2</td>\n",
       "      <td>14.0</td>\n",
       "      <td>0</td>\n",
       "    </tr>\n",
       "    <tr>\n",
       "      <th>5411</th>\n",
       "      <td>18270366805196600</td>\n",
       "      <td>2</td>\n",
       "      <td>14.0</td>\n",
       "      <td>0</td>\n",
       "    </tr>\n",
       "    <tr>\n",
       "      <th>5412</th>\n",
       "      <td>18013386916840200</td>\n",
       "      <td>2</td>\n",
       "      <td>27.0</td>\n",
       "      <td>0</td>\n",
       "    </tr>\n",
       "  </tbody>\n",
       "</table>\n",
       "<p>5410 rows × 4 columns</p>\n",
       "</div>"
      ],
      "text/plain": [
       "                     id  media_type  like_count  comments_count\n",
       "0     17990918969458700           0         6.0               0\n",
       "1     18219250732221000           1        22.0               1\n",
       "2     18311380465102300           1        19.0               0\n",
       "3     18089518138361500           1        19.0               1\n",
       "4     18012743929758400           1        21.0               0\n",
       "...                 ...         ...         ...             ...\n",
       "5408  17977428839417500           2        16.0               0\n",
       "5409  18003986413814100           2        14.0               0\n",
       "5410  17846807598040300           2        14.0               0\n",
       "5411  18270366805196600           2        14.0               0\n",
       "5412  18013386916840200           2        27.0               0\n",
       "\n",
       "[5410 rows x 4 columns]"
      ]
     },
     "execution_count": 15,
     "metadata": {},
     "output_type": "execute_result"
    }
   ],
   "source": [
    "df"
   ]
  },
  {
   "cell_type": "code",
   "execution_count": null,
   "id": "b5f613ac",
   "metadata": {},
   "outputs": [],
   "source": []
  },
  {
   "cell_type": "code",
   "execution_count": 16,
   "id": "be55722f",
   "metadata": {},
   "outputs": [
    {
     "data": {
      "text/plain": [
       "346"
      ]
     },
     "execution_count": 16,
     "metadata": {},
     "output_type": "execute_result"
    }
   ],
   "source": [
    "df['comments_count'].nunique()"
   ]
  },
  {
   "cell_type": "code",
   "execution_count": 17,
   "id": "09797161",
   "metadata": {},
   "outputs": [
    {
     "data": {
      "text/plain": [
       "array([    0,     1,     6,     2,     8,     4,     3,    53,     5,\n",
       "         720, 12245,    14,    12, 20532,     7, 22338,    10,    47,\n",
       "          22,   131,    19,    11,   197,    85,    16,     9,    35,\n",
       "         191,    42,    23,    18,    80,    20,    28,    36,    15,\n",
       "          60,    31,    32,    69,    58,   273,    66,   392,    84,\n",
       "         107,   141,    48,    29,    39,    64,   120,   666,   914,\n",
       "         116,   227,   391,    56,    27,    40,   332,    37,    13,\n",
       "          24,    34,    70,    21,    25,   502,   363,   667,    89,\n",
       "          73,    75,   399,   469,   339,   267,   506,   263,   366,\n",
       "         153,   566,   398,    94,   209,   135,   488,   139,   226,\n",
       "         210,   182,    90,   334,   148,   196,   569,   362,   155,\n",
       "         147,   475,   354,   247,   178,   199,   597,  1009,    38,\n",
       "          17,    83,    41,    65,   428,   562,    30,   319,    46,\n",
       "          26,    97,   121,    50,    43,    49,    55,    71,    79,\n",
       "         184,   289,   108,   126,    68,    62,   111,    81,   175,\n",
       "          77,    86,   194,   200,  6020,  2583,  3905,  2589,  4357,\n",
       "        4561,  2334,  2160,  4792,  2909,  5704,  2212,  7065,  4277,\n",
       "        5865,  9310,  7594,  3423,  2075,  2983,  3821,  3104,  2195,\n",
       "        1095,  1026,  1097,  3073,  1006,  1038,  1061,  1023,  1018,\n",
       "        1017,  1019,   426,   601,   270,   110,  1882,  1864,  2557,\n",
       "        8078,   150,   676,   259,    72,    44,   250,   241,   124,\n",
       "         337,    98,   168,    57,   101,   103,   154,    52,   158,\n",
       "         100,    45,    33,   133,   122,   181,    96,   264,   192,\n",
       "         127,    88,   205,   102,   213,   245,   134,   119,  1190,\n",
       "          99,   104,   776,   125,  2250,   137,   624,   114,   225,\n",
       "         300,   478,   640,   115,   501,   129,   173,    82,    63,\n",
       "          95,    87,    92,    51,   402,   144,   162,    59,    91,\n",
       "        1895,  7312,  2261,   118,  4601,  1996,  3527,    54,    61,\n",
       "         375,   106,   796, 14276,   164,   306,   159,   206,   157,\n",
       "        4632,   708,   160,    67,  3148,   198,   328,   214,  1112,\n",
       "         202,   211,   715,   595,   524,   324,  1658,   756,   730,\n",
       "        1599,   151,   166,   276,   183,   373,   146,    76,   492,\n",
       "         491,   350,   140,   330,   460,   515,   420,   355,   234,\n",
       "         494,  1102,  9104,  7568,   279,   220,  5491,   221,   212,\n",
       "        1015,  1731,   243,   161,  1268,   236,   203,   349,   222,\n",
       "         130,   621,   105,   327,  1804,   156,   262,   465,   163,\n",
       "         224,   218,   379,   177,   237,   305,   296,   167,   169,\n",
       "         186,   136,   287,   189,   718,   207,   554,   393,  1022,\n",
       "         229,   260,   256,   387])"
      ]
     },
     "execution_count": 17,
     "metadata": {},
     "output_type": "execute_result"
    }
   ],
   "source": [
    "df['comments_count'].unique()"
   ]
  },
  {
   "cell_type": "code",
   "execution_count": 18,
   "id": "feae71f2",
   "metadata": {},
   "outputs": [],
   "source": [
    "X = df[['id', 'comments_count', 'media_type']]\n",
    "y = df['like_count']"
   ]
  },
  {
   "cell_type": "code",
   "execution_count": 19,
   "id": "5629a850",
   "metadata": {},
   "outputs": [],
   "source": [
    "# Define preprocessing for numeric and categorical features\n",
    "numeric_features = ['id', 'comments_count']\n",
    "categorical_features = ['media_type']"
   ]
  },
  {
   "cell_type": "code",
   "execution_count": 20,
   "id": "967486b9",
   "metadata": {},
   "outputs": [],
   "source": [
    "numeric_transformer = Pipeline(steps=[\n",
    "    ('scaler', StandardScaler())\n",
    "])"
   ]
  },
  {
   "cell_type": "code",
   "execution_count": 21,
   "id": "3ec6045f",
   "metadata": {},
   "outputs": [],
   "source": [
    "categorical_transformer = Pipeline(steps=[\n",
    "    ('onehot', OneHotEncoder(drop='first'))\n",
    "])"
   ]
  },
  {
   "cell_type": "code",
   "execution_count": 22,
   "id": "7561a53c",
   "metadata": {},
   "outputs": [],
   "source": [
    "preprocessor = ColumnTransformer(\n",
    "    transformers=[\n",
    "        ('num', numeric_transformer, numeric_features),\n",
    "        ('cat', categorical_transformer, categorical_features)\n",
    "    ]\n",
    ")"
   ]
  },
  {
   "cell_type": "code",
   "execution_count": 23,
   "id": "7a255139",
   "metadata": {},
   "outputs": [],
   "source": [
    "X_train, X_test, y_train, y_test = train_test_split(X, y, test_size=0.2, random_state=42)"
   ]
  },
  {
   "cell_type": "code",
   "execution_count": 24,
   "id": "1b710288",
   "metadata": {},
   "outputs": [],
   "source": [
    "# Initialize models with preprocessing pipelines\n",
    "models = {\n",
    "    'Linear Regression': Pipeline(steps=[\n",
    "        ('preprocessor', preprocessor),\n",
    "        ('regressor', LinearRegression())\n",
    "    ]),\n",
    "    'Random Forest': Pipeline(steps=[\n",
    "        ('preprocessor', preprocessor),\n",
    "        ('regressor', RandomForestRegressor(random_state=42))\n",
    "    ]),\n",
    "}"
   ]
  },
  {
   "cell_type": "code",
   "execution_count": 25,
   "id": "ede41c1d",
   "metadata": {},
   "outputs": [],
   "source": [
    "# Evaluate models\n",
    "results = {}\n",
    "for name, pipeline in models.items():\n",
    "    pipeline.fit(X_train, y_train)\n",
    "    predictions = pipeline.predict(X_test)\n",
    "    mse = mean_squared_error(y_test, predictions)\n",
    "    r2 = r2_score(y_test, predictions)\n",
    "    results[name] = {'MSE': mse, 'R2 Score': r2}"
   ]
  },
  {
   "cell_type": "code",
   "execution_count": 26,
   "id": "d9c9cc81",
   "metadata": {},
   "outputs": [],
   "source": [
    "# Save predictions for the best model (e.g., Random Forest) as JSON\n",
    "best_model = models['Random Forest']\n",
    "predictions = best_model.predict(X_test)\n",
    "output = {str(int(userid)): int(prediction) for userid, prediction in zip(X_test['id'], predictions)}\n",
    "\n",
    "with open('regression-output.json', 'w') as f:\n",
    "    json.dump(output, f)"
   ]
  },
  {
   "cell_type": "code",
   "execution_count": 27,
   "id": "19eead5a",
   "metadata": {},
   "outputs": [
    {
     "name": "stdout",
     "output_type": "stream",
     "text": [
      "Linear Regression: R2 Score = 0.30\n",
      "Random Forest: R2 Score = 0.88\n"
     ]
    }
   ],
   "source": [
    "for model, metrics in results.items():\n",
    "    print(f\"{model}: R2 Score = {metrics['R2 Score']:.2f}\")"
   ]
  },
  {
   "cell_type": "code",
   "execution_count": 29,
   "id": "d9376eb7",
   "metadata": {},
   "outputs": [
    {
     "name": "stdout",
     "output_type": "stream",
     "text": [
      "Linear Regression: R2 Score = 0.30, MSE = 1088312889.50\n",
      "Random Forest: R2 Score = 0.88, MSE = 187070362.69\n",
      "Best model: Random Forest\n",
      "Predictions saved to regression-output.json\n"
     ]
    }
   ],
   "source": [
    "import numpy as np\n",
    "import pandas as pd\n",
    "from sklearn.model_selection import train_test_split\n",
    "from sklearn.linear_model import LinearRegression\n",
    "from sklearn.ensemble import RandomForestRegressor\n",
    "from sklearn.svm import SVR\n",
    "from sklearn.pipeline import Pipeline\n",
    "from sklearn.preprocessing import StandardScaler, OneHotEncoder\n",
    "from sklearn.compose import ColumnTransformer\n",
    "from sklearn.metrics import mean_squared_error, r2_score\n",
    "import json\n",
    "\n",
    "# Load training data\n",
    "df = pd.read_csv('main.csv')\n",
    "\n",
    "# Columns to drop\n",
    "columns_to_drop = ['username']\n",
    "\n",
    "def clean_data(df):\n",
    "    return df.drop(columns=columns_to_drop)\n",
    "\n",
    "df = clean_data(df)\n",
    "\n",
    "# Encode media_type\n",
    "df['media_type'] = df['media_type'].replace({\n",
    "    'IMAGE': 0,\n",
    "    'VIDEO': 1,\n",
    "    'CAROUSEL_ALBUM': 2\n",
    "})\n",
    "\n",
    "# Drop duplicates and nulls\n",
    "df.dropna(inplace=True)\n",
    "\n",
    "# Feature and target selection\n",
    "X = df[['id', 'comments_count', 'media_type']]\n",
    "y = df['like_count']\n",
    "\n",
    "# Define preprocessing for numeric and categorical features\n",
    "numeric_features = ['id', 'comments_count']\n",
    "categorical_features = ['media_type']\n",
    "numeric_transformer = Pipeline(steps=[\n",
    "    ('scaler', StandardScaler())\n",
    "])\n",
    "categorical_transformer = Pipeline(steps=[\n",
    "    ('onehot', OneHotEncoder(drop='first'))\n",
    "])\n",
    "\n",
    "preprocessor = ColumnTransformer(\n",
    "    transformers=[\n",
    "        ('num', numeric_transformer, numeric_features),\n",
    "        ('cat', categorical_transformer, categorical_features)\n",
    "    ]\n",
    ")\n",
    "\n",
    "# Train/test split\n",
    "X_train, X_test, y_train, y_test = train_test_split(X, y, test_size=0.2, random_state=42)\n",
    "\n",
    "# Initialize models with preprocessing pipelines\n",
    "models = {\n",
    "    'Linear Regression': Pipeline(steps=[\n",
    "        ('preprocessor', preprocessor),\n",
    "        ('regressor', LinearRegression())\n",
    "    ]),\n",
    "    'Random Forest': Pipeline(steps=[\n",
    "        ('preprocessor', preprocessor),\n",
    "        ('regressor', RandomForestRegressor(random_state=42))\n",
    "    ]),\n",
    "}\n",
    "\n",
    "# Evaluate models\n",
    "results = {}\n",
    "for name, pipeline in models.items():\n",
    "    pipeline.fit(X_train, y_train)\n",
    "    predictions = pipeline.predict(X_test)\n",
    "    mse = mean_squared_error(y_test, predictions)\n",
    "    r2 = r2_score(y_test, predictions)\n",
    "    results[name] = {'MSE': mse, 'R2 Score': r2}\n",
    "\n",
    "# Save predictions for the best model (e.g., Random Forest)\n",
    "best_model_name = max(results, key=lambda x: results[x]['R2 Score'])\n",
    "best_model = models[best_model_name]\n",
    "\n",
    "# Test with the external JSONL file\n",
    "test_file_path = 'test-regression-round3.jsonl'\n",
    "output_file_path = 'regression-output.json'\n",
    "\n",
    "test_data = []\n",
    "with open(test_file_path, 'r') as f:\n",
    "    for line in f:\n",
    "        test_data.append(json.loads(line))\n",
    "\n",
    "# Prepare test set for prediction\n",
    "test_df = pd.DataFrame(test_data)\n",
    "\n",
    "# Encode media_type in the test set\n",
    "test_df['media_type'] = test_df['media_type'].replace({\n",
    "    'IMAGE': 0,\n",
    "    'VIDEO': 1,\n",
    "    'CAROUSEL_ALBUM': 2\n",
    "})\n",
    "\n",
    "# Use only necessary columns for prediction\n",
    "X_test_external = test_df[['id', 'comments_count', 'media_type']]\n",
    "\n",
    "# Make predictions\n",
    "predictions = best_model.predict(X_test_external)\n",
    "\n",
    "# Prepare the output dictionary\n",
    "output = {str(int(row['id'])): int(round(pred)) for row, pred in zip(test_data, predictions)}\n",
    "\n",
    "# Save predictions to the output file\n",
    "with open(output_file_path, 'w') as f:\n",
    "    json.dump(output, f, indent=2)\n",
    "\n",
    "# Print evaluation results\n",
    "for model, metrics in results.items():\n",
    "    print(f\"{model}: R2 Score = {metrics['R2 Score']:.2f}, MSE = {metrics['MSE']:.2f}\")\n",
    "\n",
    "print(f\"Best model: {best_model_name}\")\n",
    "print(f\"Predictions saved to {output_file_path}\")"
   ]
  }
 ],
 "metadata": {
  "kernelspec": {
   "display_name": "base",
   "language": "python",
   "name": "python3"
  },
  "language_info": {
   "codemirror_mode": {
    "name": "ipython",
    "version": 3
   },
   "file_extension": ".py",
   "mimetype": "text/x-python",
   "name": "python",
   "nbconvert_exporter": "python",
   "pygments_lexer": "ipython3",
   "version": "3.12.4"
  }
 },
 "nbformat": 4,
 "nbformat_minor": 5
}
